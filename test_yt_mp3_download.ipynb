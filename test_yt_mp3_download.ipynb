{
 "cells": [
  {
   "cell_type": "code",
   "execution_count": 48,
   "metadata": {},
   "outputs": [],
   "source": [
    "import pafy\n",
    "from pydub import AudioSegment\n",
    "import os\n",
    "import os.path\n",
    "from ShazamAPI import Shazam\n",
    "\n",
    "\n",
    "class Video:\n",
    "    def __init__(self,url) -> None:\n",
    "        self.url=url\n",
    "        \n",
    "    def mp3_download(self):\n",
    "        \"\"\"télécharge le fichier mp3 de la vidéo\"\"\"\n",
    "        video = pafy.new(self.url)\n",
    "        print(f'Téléchargement en cours de {video.title} de {video.author} | {video.duration}')\n",
    "        bestaudio = video.getbestaudio()\n",
    "        bestaudio.download(\"audio.mp3\")\n",
    "        \n",
    "class Audio:\n",
    "    \"\"\"Nouvelle classe audio qui traite mtn le mp3\"\"\"\n",
    "    def __init__(self,path):\n",
    "        self.path=path\n",
    "    \n",
    "    def cut_mp3(self,i=0):\n",
    "        \"\"\"coupe l'audio par segment de 1 minute et produit 1 nom différent par fichier\"\"\"\n",
    "        sound=AudioSegment.from_file(self.path)\n",
    "        duree=len(sound) # duree de laudio \n",
    "        for i in range(int((len(sound)/1000)/60)): #cree un fichier tout les 1 min\n",
    "            second_half = sound[i*1000*60:((i+1)*1000*60)]\n",
    "            second_half.export(f\"C:/Users/croco/Documents/GitHub/YoutubeMusicFinder/audio_final/audio{i}.mp3\", format=\"mp3\")\n",
    "    \n",
    "    def cut_mp3_extrait(self,audio_directory):\n",
    "        \"\"\"Coupe des extraits de 5s (à la fin de la musique)\"\"\"\n",
    "        entries = os.listdir(audio_directory)\n",
    "        \n",
    "        for i in entries :\n",
    "           if  os.path.isdir(f'{audio_directory}/{i}')==True:\n",
    "               pass\n",
    "           else:\n",
    "             print(f'{audio_directory}/{i} traitement en cours | Output : {audio_directory}/extract/')\n",
    "             song=AudioSegment.from_file(f'{audio_directory}/{i}')\n",
    "             last_5_seconds = song[-5000:]\n",
    "             last_5_seconds.export(f\"{audio_directory}/extract/{i}\", format=\"mp3\")\n",
    "    \n",
    "    \n",
    "        \n",
    "def find_song(file_path):\n",
    "    \n",
    "    mp3_file_content_to_recognize = open(file_path, 'rb').read()\n",
    "    shazam = Shazam(mp3_file_content_to_recognize)\n",
    "    recognize_generator = shazam.recognizeSong()\n",
    "    reponse=next(recognize_generator)[1]\n",
    "    a=(reponse['track']['title'])\n",
    "    return(a)\n",
    "    \n",
    "    \n",
    "    \n",
    "    \n",
    "\n",
    "            \n",
    "    \n",
    "    \n",
    "        \n",
    "\n",
    "\n",
    "\n",
    "        \n",
    "      \n",
    "        \n",
    "\n",
    "\n"
   ]
  },
  {
   "cell_type": "code",
   "execution_count": 2,
   "metadata": {},
   "outputs": [
    {
     "name": "stdout",
     "output_type": "stream",
     "text": [
      "Téléchargement en cours de WAO VS FNC ADAM & KC SAKEN CHALLENGER GAMEPLAY DARIUS 1VS2 DOUBLE KILL ADAM SAKEN de Wao lol | 00:19:01\n",
      "\n"
     ]
    }
   ],
   "source": [
    "wao1=Video('https://www.youtube.com/watch?v=67dRsjEdrnA')\n",
    "wao1.mp3_download()"
   ]
  },
  {
   "cell_type": "code",
   "execution_count": 3,
   "metadata": {},
   "outputs": [],
   "source": [
    "wao1_audio=Audio(\"C:/Users/croco/Documents/GitHub/YoutubeMusicFinder/audio.mp3\")\n",
    "wao1_audio.cut_mp3()"
   ]
  },
  {
   "cell_type": "code",
   "execution_count": 4,
   "metadata": {},
   "outputs": [
    {
     "name": "stdout",
     "output_type": "stream",
     "text": [
      "C:/Users/croco/Documents/GitHub/YoutubeMusicFinder/audio_final/audio0.mp3 traitement en cours | Output : C:/Users/croco/Documents/GitHub/YoutubeMusicFinder/audio_final/extract/\n",
      "C:/Users/croco/Documents/GitHub/YoutubeMusicFinder/audio_final/audio1.mp3 traitement en cours | Output : C:/Users/croco/Documents/GitHub/YoutubeMusicFinder/audio_final/extract/\n",
      "C:/Users/croco/Documents/GitHub/YoutubeMusicFinder/audio_final/audio10.mp3 traitement en cours | Output : C:/Users/croco/Documents/GitHub/YoutubeMusicFinder/audio_final/extract/\n",
      "C:/Users/croco/Documents/GitHub/YoutubeMusicFinder/audio_final/audio11.mp3 traitement en cours | Output : C:/Users/croco/Documents/GitHub/YoutubeMusicFinder/audio_final/extract/\n",
      "C:/Users/croco/Documents/GitHub/YoutubeMusicFinder/audio_final/audio12.mp3 traitement en cours | Output : C:/Users/croco/Documents/GitHub/YoutubeMusicFinder/audio_final/extract/\n",
      "C:/Users/croco/Documents/GitHub/YoutubeMusicFinder/audio_final/audio13.mp3 traitement en cours | Output : C:/Users/croco/Documents/GitHub/YoutubeMusicFinder/audio_final/extract/\n",
      "C:/Users/croco/Documents/GitHub/YoutubeMusicFinder/audio_final/audio14.mp3 traitement en cours | Output : C:/Users/croco/Documents/GitHub/YoutubeMusicFinder/audio_final/extract/\n",
      "C:/Users/croco/Documents/GitHub/YoutubeMusicFinder/audio_final/audio15.mp3 traitement en cours | Output : C:/Users/croco/Documents/GitHub/YoutubeMusicFinder/audio_final/extract/\n",
      "C:/Users/croco/Documents/GitHub/YoutubeMusicFinder/audio_final/audio16.mp3 traitement en cours | Output : C:/Users/croco/Documents/GitHub/YoutubeMusicFinder/audio_final/extract/\n",
      "C:/Users/croco/Documents/GitHub/YoutubeMusicFinder/audio_final/audio17.mp3 traitement en cours | Output : C:/Users/croco/Documents/GitHub/YoutubeMusicFinder/audio_final/extract/\n",
      "C:/Users/croco/Documents/GitHub/YoutubeMusicFinder/audio_final/audio18.mp3 traitement en cours | Output : C:/Users/croco/Documents/GitHub/YoutubeMusicFinder/audio_final/extract/\n",
      "C:/Users/croco/Documents/GitHub/YoutubeMusicFinder/audio_final/audio2.mp3 traitement en cours | Output : C:/Users/croco/Documents/GitHub/YoutubeMusicFinder/audio_final/extract/\n",
      "C:/Users/croco/Documents/GitHub/YoutubeMusicFinder/audio_final/audio3.mp3 traitement en cours | Output : C:/Users/croco/Documents/GitHub/YoutubeMusicFinder/audio_final/extract/\n",
      "C:/Users/croco/Documents/GitHub/YoutubeMusicFinder/audio_final/audio4.mp3 traitement en cours | Output : C:/Users/croco/Documents/GitHub/YoutubeMusicFinder/audio_final/extract/\n",
      "C:/Users/croco/Documents/GitHub/YoutubeMusicFinder/audio_final/audio5.mp3 traitement en cours | Output : C:/Users/croco/Documents/GitHub/YoutubeMusicFinder/audio_final/extract/\n",
      "C:/Users/croco/Documents/GitHub/YoutubeMusicFinder/audio_final/audio6.mp3 traitement en cours | Output : C:/Users/croco/Documents/GitHub/YoutubeMusicFinder/audio_final/extract/\n",
      "C:/Users/croco/Documents/GitHub/YoutubeMusicFinder/audio_final/audio7.mp3 traitement en cours | Output : C:/Users/croco/Documents/GitHub/YoutubeMusicFinder/audio_final/extract/\n",
      "C:/Users/croco/Documents/GitHub/YoutubeMusicFinder/audio_final/audio8.mp3 traitement en cours | Output : C:/Users/croco/Documents/GitHub/YoutubeMusicFinder/audio_final/extract/\n",
      "C:/Users/croco/Documents/GitHub/YoutubeMusicFinder/audio_final/audio9.mp3 traitement en cours | Output : C:/Users/croco/Documents/GitHub/YoutubeMusicFinder/audio_final/extract/\n"
     ]
    }
   ],
   "source": [
    "wao1_audio=Audio(\"C:/Users/croco/Documents/GitHub/YoutubeMusicFinder/audio.mp3\")\n",
    "wao1_audio.cut_mp3_extrait('C:/Users/croco/Documents/GitHub/YoutubeMusicFinder/audio_final')"
   ]
  },
  {
   "cell_type": "code",
   "execution_count": 4,
   "metadata": {},
   "outputs": [
    {
     "name": "stdout",
     "output_type": "stream",
     "text": [
      "Magic In The Air\n"
     ]
    }
   ],
   "source": [
    "find_song('./audio_final/extract/audio18.mp3')"
   ]
  },
  {
   "cell_type": "code",
   "execution_count": 122,
   "metadata": {},
   "outputs": [
    {
     "name": "stdout",
     "output_type": "stream",
     "text": [
      "Magic In The Air\n"
     ]
    }
   ],
   "source": [
    "mp3_file_content_to_recognize = open('./audio_final/extract/audio18.mp3', 'rb').read()\n",
    "shazam = Shazam(mp3_file_content_to_recognize)\n",
    "recognize_generator = shazam.recognizeSong()\n",
    "reponse=next(recognize_generator)[1] # current offset & shazam response to recognize requests\n",
    "print(reponse['track']['title'])"
   ]
  },
  {
   "cell_type": "code",
   "execution_count": 56,
   "metadata": {},
   "outputs": [
    {
     "name": "stdout",
     "output_type": "stream",
     "text": [
      "Traitement en cours de la minute 1\n",
      "Traitement en cours de la minute 2\n"
     ]
    }
   ],
   "source": [
    "audio_directory='C:/Users/croco/Documents/GitHub/YoutubeMusicFinder/audio_final/extract'\n",
    "entries = os.listdir('C:/Users/croco/Documents/GitHub/YoutubeMusicFinder/audio_final/extract')\n",
    "\n",
    "liste_musique = []  \n",
    "for i in range(len(entries)):\n",
    "    try: \n",
    "      nom=find_song(f'{audio_directory}/audio{i}.mp3')\n",
    "      print(f'Traitement en cours de la minute {i+1}')\n",
    "      liste_musique.append(nom)\n",
    "\n",
    "      \n",
    "      \n",
    "      \n",
    "    except KeyError:\n",
    "      print(f'Traitement en cours de la minute {i+1}')\n",
    "\n",
    "liste_finale=list(set(liste_musique))\n",
    "for i in liste_finale:\n",
    "  print(f'Musique trouvée : {i}')\n",
    "    \n",
    "       \n",
    "\n",
    "    \n",
    "    \n",
    "    \n"
   ]
  }
 ],
 "metadata": {
  "interpreter": {
   "hash": "7a7a32c105c4120ad526eb64bf655e6765df553b7e2a33bc61331bb9a3524fd3"
  },
  "kernelspec": {
   "display_name": "Python 3.9.6 64-bit",
   "name": "python3"
  },
  "language_info": {
   "codemirror_mode": {
    "name": "ipython",
    "version": 3
   },
   "file_extension": ".py",
   "mimetype": "text/x-python",
   "name": "python",
   "nbconvert_exporter": "python",
   "pygments_lexer": "ipython3",
   "version": "3.9.6"
  },
  "orig_nbformat": 4
 },
 "nbformat": 4,
 "nbformat_minor": 2
}
