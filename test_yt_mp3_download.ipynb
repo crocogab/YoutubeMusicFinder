{
 "cells": [
  {
   "cell_type": "code",
   "execution_count": 67,
   "metadata": {},
   "outputs": [],
   "source": [
    "import pafy\n",
    "from pydub import AudioSegment\n",
    "\n",
    "\n",
    "class Video:\n",
    "    def __init__(self,url) -> None:\n",
    "        self.url=url\n",
    "        \n",
    "    def mp3_download(self):\n",
    "        \"\"\"télécharge le fichier mp3 de la vidéo\"\"\"\n",
    "        video = pafy.new(self.url)\n",
    "        print(f'Téléchargement en cours de {video.title} de {video.author} | {video.duration}')\n",
    "        bestaudio = video.getbestaudio(filepath='C:/Users/croco/Downloads/test',)\n",
    "        bestaudio.download()\n",
    "        m4a_audio = AudioSegment.from_file(f\"{video.title}.m4a\", format=\"m4a\")\n",
    "        \n",
    "        \n",
    "\n",
    "\n"
   ]
  },
  {
   "cell_type": "code",
   "execution_count": 68,
   "metadata": {},
   "outputs": [
    {
     "name": "stdout",
     "output_type": "stream",
     "text": [
      "Téléchargement en cours de WAO VS FNC ADAM & KC SAKEN CHALLENGER GAMEPLAY DARIUS 1VS2 DOUBLE KILL ADAM SAKEN de Wao lol | 00:19:01\n"
     ]
    },
    {
     "ename": "TypeError",
     "evalue": "getbestaudio() got an unexpected keyword argument 'filepath'",
     "output_type": "error",
     "traceback": [
      "\u001b[1;31m---------------------------------------------------------------------------\u001b[0m",
      "\u001b[1;31mTypeError\u001b[0m                                 Traceback (most recent call last)",
      "\u001b[1;32m~\\AppData\\Local\\Temp/ipykernel_9836/189043928.py\u001b[0m in \u001b[0;36m<module>\u001b[1;34m\u001b[0m\n\u001b[0;32m      1\u001b[0m \u001b[0mwao1\u001b[0m\u001b[1;33m=\u001b[0m\u001b[0mVideo\u001b[0m\u001b[1;33m(\u001b[0m\u001b[1;34m'https://www.youtube.com/watch?v=67dRsjEdrnA'\u001b[0m\u001b[1;33m)\u001b[0m\u001b[1;33m\u001b[0m\u001b[1;33m\u001b[0m\u001b[0m\n\u001b[1;32m----> 2\u001b[1;33m \u001b[0mwao1\u001b[0m\u001b[1;33m.\u001b[0m\u001b[0mmp3_download\u001b[0m\u001b[1;33m(\u001b[0m\u001b[1;33m)\u001b[0m\u001b[1;33m\u001b[0m\u001b[1;33m\u001b[0m\u001b[0m\n\u001b[0m",
      "\u001b[1;32m~\\AppData\\Local\\Temp/ipykernel_9836/1077073637.py\u001b[0m in \u001b[0;36mmp3_download\u001b[1;34m(self)\u001b[0m\n\u001b[0;32m     10\u001b[0m         \u001b[0mvideo\u001b[0m \u001b[1;33m=\u001b[0m \u001b[0mpafy\u001b[0m\u001b[1;33m.\u001b[0m\u001b[0mnew\u001b[0m\u001b[1;33m(\u001b[0m\u001b[0mself\u001b[0m\u001b[1;33m.\u001b[0m\u001b[0murl\u001b[0m\u001b[1;33m)\u001b[0m\u001b[1;33m\u001b[0m\u001b[1;33m\u001b[0m\u001b[0m\n\u001b[0;32m     11\u001b[0m         \u001b[0mprint\u001b[0m\u001b[1;33m(\u001b[0m\u001b[1;34mf'Téléchargement en cours de {video.title} de {video.author} | {video.duration}'\u001b[0m\u001b[1;33m)\u001b[0m\u001b[1;33m\u001b[0m\u001b[1;33m\u001b[0m\u001b[0m\n\u001b[1;32m---> 12\u001b[1;33m         \u001b[0mbestaudio\u001b[0m \u001b[1;33m=\u001b[0m \u001b[0mvideo\u001b[0m\u001b[1;33m.\u001b[0m\u001b[0mgetbestaudio\u001b[0m\u001b[1;33m(\u001b[0m\u001b[0mfilepath\u001b[0m\u001b[1;33m=\u001b[0m\u001b[1;34m'C:/Users/croco/Downloads/test'\u001b[0m\u001b[1;33m,\u001b[0m\u001b[1;33m)\u001b[0m\u001b[1;33m\u001b[0m\u001b[1;33m\u001b[0m\u001b[0m\n\u001b[0m\u001b[0;32m     13\u001b[0m         \u001b[0mbestaudio\u001b[0m\u001b[1;33m.\u001b[0m\u001b[0mdownload\u001b[0m\u001b[1;33m(\u001b[0m\u001b[1;33m)\u001b[0m\u001b[1;33m\u001b[0m\u001b[1;33m\u001b[0m\u001b[0m\n\u001b[0;32m     14\u001b[0m         \u001b[0mwav_audio\u001b[0m \u001b[1;33m=\u001b[0m \u001b[0mAudioSegment\u001b[0m\u001b[1;33m.\u001b[0m\u001b[0mfrom_file\u001b[0m\u001b[1;33m(\u001b[0m\u001b[1;34m\"audio.wav\"\u001b[0m\u001b[1;33m,\u001b[0m \u001b[0mformat\u001b[0m\u001b[1;33m=\u001b[0m\u001b[1;34m\"wav\"\u001b[0m\u001b[1;33m)\u001b[0m\u001b[1;33m\u001b[0m\u001b[1;33m\u001b[0m\u001b[0m\n",
      "\u001b[1;31mTypeError\u001b[0m: getbestaudio() got an unexpected keyword argument 'filepath'"
     ]
    }
   ],
   "source": [
    "wao1=Video('https://www.youtube.com/watch?v=67dRsjEdrnA')\n",
    "wao1.mp3_download()"
   ]
  }
 ],
 "metadata": {
  "interpreter": {
   "hash": "7a7a32c105c4120ad526eb64bf655e6765df553b7e2a33bc61331bb9a3524fd3"
  },
  "kernelspec": {
   "display_name": "Python 3.9.6 64-bit",
   "name": "python3"
  },
  "language_info": {
   "codemirror_mode": {
    "name": "ipython",
    "version": 3
   },
   "file_extension": ".py",
   "mimetype": "text/x-python",
   "name": "python",
   "nbconvert_exporter": "python",
   "pygments_lexer": "ipython3",
   "version": "3.9.6"
  },
  "orig_nbformat": 4
 },
 "nbformat": 4,
 "nbformat_minor": 2
}
